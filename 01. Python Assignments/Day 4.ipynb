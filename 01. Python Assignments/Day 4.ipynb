{
 "cells": [
  {
   "cell_type": "markdown",
   "id": "6c0123f9",
   "metadata": {},
   "source": [
    "### 1.Explore split, strip, replace, center, title methods of string data type in python\n",
    "### 2.Explore append, pop, remove, sort methods of list data type\n",
    "### 3.Create 5 real time lists to store some useful information in python eg. Language = [ ‘java’, ‘c’, ‘c++’, ‘ruby’ ]\n",
    "### 4.What is difference between mutable and immutable data types in python .\n",
    "### 5.What are identifiers, list rules of identifiers in python ."
   ]
  },
  {
   "cell_type": "code",
   "execution_count": 1,
   "id": "73ec076f",
   "metadata": {},
   "outputs": [
    {
     "name": "stdout",
     "output_type": "stream",
     "text": [
      "['   Hello', ' World!   ']\n",
      "Hello, World!\n",
      "   Hello, World   \n",
      "   Hello, World!   -\n",
      "   Hello, World!   \n"
     ]
    }
   ],
   "source": [
    "# String Methods\n",
    "text = \"   Hello, World!   \"\n",
    "print(text.split(\",\"))      # Output: ['   Hello', ' World!   ']\n",
    "print(text.strip())         # Output: 'Hello, World!'\n",
    "print(text.replace(\"!\", \"\"))# Output: '   Hello, World   '\n",
    "print(text.center(20, \"-\")) # Output: '  Hello, World!   '\n",
    "print(text.title())         # Output: '   Hello, World!   '"
   ]
  },
  {
   "cell_type": "code",
   "execution_count": 2,
   "id": "77af825e",
   "metadata": {},
   "outputs": [
    {
     "name": "stdout",
     "output_type": "stream",
     "text": [
      "grape\n"
     ]
    }
   ],
   "source": [
    "# List Methods\n",
    "fruits = ['apple', 'banana', 'orange']\n",
    "fruits.append('grape')      # ['apple', 'banana', 'orange', 'grape']\n",
    "print(fruits.pop())         # Output: 'grape'\n",
    "fruits.remove('banana')     # ['apple', 'orange']\n",
    "fruits.sort()               # ['apple', 'orange']\n"
   ]
  },
  {
   "cell_type": "code",
   "execution_count": 3,
   "id": "bb9a979b",
   "metadata": {},
   "outputs": [],
   "source": [
    "# Example 1: Programming Languages\n",
    "languages = ['Java', 'C', 'C++', 'Ruby']\n",
    "\n",
    "# Example 2: Grocery List\n",
    "groceries = ['Apples', 'Milk', 'Bread', 'Eggs']\n",
    "\n",
    "# Example 3: To-Do List\n",
    "todos = ['Finish homework', 'Pay bills', 'Call a friend']\n",
    "\n",
    "# Example 4: Countries\n",
    "countries = ['USA', 'Germany', 'Australia', 'Japan']\n",
    "\n",
    "# Example 5: Favorite Movies\n",
    "movies = ['The Shawshank Redemption', 'Inception', 'Pulp Fiction']\n"
   ]
  },
  {
   "cell_type": "markdown",
   "id": "3c9bb656",
   "metadata": {},
   "source": [
    "Difference between Mutable and Immutable Data Types:\n",
    "Mutable: Mutable data types can be modified or changed after they are created. Examples include lists, sets, and dictionaries.\n",
    "Immutable: Immutable data types cannot be modified once they are created. Examples include strings, numbers, and tuples. Instead of modifying the value directly, a new value is created when an operation is performed on an immutable object."
   ]
  },
  {
   "cell_type": "markdown",
   "id": "3de734d2",
   "metadata": {},
   "source": [
    "Identifiers:\n",
    "Identifiers are names used to identify variables, functions, classes, modules, or other objects in Python. Rules for identifiers in Python are as follows:\n",
    "Must start with a letter (a-z, A-Z) or an underscore (_).\n",
    "Subsequent characters can be letters, numbers, or underscores.\n",
    "Cannot be a reserved word or a built-in function name.\n",
    "Case-sensitive (e.g., 'myVar' and 'myvar' are different identifiers)."
   ]
  }
 ],
 "metadata": {
  "kernelspec": {
   "display_name": "Python 3 (ipykernel)",
   "language": "python",
   "name": "python3"
  },
  "language_info": {
   "codemirror_mode": {
    "name": "ipython",
    "version": 3
   },
   "file_extension": ".py",
   "mimetype": "text/x-python",
   "name": "python",
   "nbconvert_exporter": "python",
   "pygments_lexer": "ipython3",
   "version": "3.10.7"
  }
 },
 "nbformat": 4,
 "nbformat_minor": 5
}
