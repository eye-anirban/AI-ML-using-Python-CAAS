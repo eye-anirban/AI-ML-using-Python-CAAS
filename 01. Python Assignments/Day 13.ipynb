{
 "cells": [
  {
   "cell_type": "markdown",
   "id": "cd8904da",
   "metadata": {},
   "source": [
    "1.Write a Python Code to count the Number of Each Vowel in a given string\n",
    "\n",
    "2.Write a Python Code to count number of words, characters and number of spaces in a given string\n",
    "\n",
    "3.Write a Python Program to remove punctuation from a given string (using loop)\n",
    "\n",
    "4.Write a Python Program to take a mxn matrix input from user and stored in nested list\n",
    "\n",
    "5.Write a Python Program to add, multiply and transpose two matrices given by user "
   ]
  },
  {
   "cell_type": "code",
   "execution_count": 1,
   "id": "c6dbcc24",
   "metadata": {},
   "outputs": [
    {
     "name": "stdout",
     "output_type": "stream",
     "text": [
      "Number of 'a' in the string: 0\n",
      "Number of 'e' in the string: 1\n",
      "Number of 'i' in the string: 0\n",
      "Number of 'o' in the string: 2\n",
      "Number of 'u' in the string: 0\n"
     ]
    }
   ],
   "source": [
    "def count_vowels(string):\n",
    "    vowels = ['a', 'e', 'i', 'o', 'u']\n",
    "    vowel_count = {}\n",
    "    \n",
    "    for char in string.lower():\n",
    "        if char in vowels:\n",
    "            vowel_count[char] = vowel_count.get(char, 0) + 1\n",
    "    \n",
    "    for vowel in vowels:\n",
    "        count = vowel_count.get(vowel, 0)\n",
    "        print(f\"Number of '{vowel}' in the string: {count}\")\n",
    "\n",
    "# Example usage:\n",
    "input_string = \"Hello World\"\n",
    "count_vowels(input_string)\n"
   ]
  },
  {
   "cell_type": "code",
   "execution_count": 2,
   "id": "ca5e8ee9",
   "metadata": {},
   "outputs": [
    {
     "name": "stdout",
     "output_type": "stream",
     "text": [
      "Number of words: 5\n",
      "Number of characters: 23\n",
      "Number of spaces: 4\n"
     ]
    }
   ],
   "source": [
    "def count_string_info(string):\n",
    "    word_count = len(string.split())\n",
    "    char_count = len(string)\n",
    "    space_count = string.count(\" \")\n",
    "    \n",
    "    print(f\"Number of words: {word_count}\")\n",
    "    print(f\"Number of characters: {char_count}\")\n",
    "    print(f\"Number of spaces: {space_count}\")\n",
    "\n",
    "# Example usage:\n",
    "input_string = \"This is a sample string\"\n",
    "count_string_info(input_string)\n"
   ]
  },
  {
   "cell_type": "code",
   "execution_count": 3,
   "id": "385d6781",
   "metadata": {},
   "outputs": [
    {
     "name": "stdout",
     "output_type": "stream",
     "text": [
      "Hello World\n"
     ]
    }
   ],
   "source": [
    "def remove_punctuation(string):\n",
    "    punctuations = '''!()-[]{};:'\"\\,<>./?@#$%^&*_~'''\n",
    "    result = \"\"\n",
    "\n",
    "    for char in string:\n",
    "        if char not in punctuations:\n",
    "            result += char\n",
    "    \n",
    "    return result\n",
    "\n",
    "# Example usage:\n",
    "input_string = \"Hello, World!\"\n",
    "output_string = remove_punctuation(input_string)\n",
    "print(output_string)\n"
   ]
  },
  {
   "cell_type": "code",
   "execution_count": 4,
   "id": "98209b47",
   "metadata": {},
   "outputs": [
    {
     "name": "stdout",
     "output_type": "stream",
     "text": [
      "Enter the number of rows: 3\n",
      "Enter the number of columns: 3\n",
      "Enter element at position (0, 0): 1\n",
      "Enter element at position (0, 1): 3\n",
      "Enter element at position (0, 2): 4\n",
      "Enter element at position (1, 0): 5\n",
      "Enter element at position (1, 1): 6\n",
      "Enter element at position (1, 2): 7\n",
      "Enter element at position (2, 0): 9\n",
      "Enter element at position (2, 1): 0\n",
      "Enter element at position (2, 2): 2\n",
      "[[1, 3, 4], [5, 6, 7], [9, 0, 2]]\n"
     ]
    }
   ],
   "source": [
    "def create_matrix(m, n):\n",
    "    matrix = []\n",
    "\n",
    "    for i in range(m):\n",
    "        row = []\n",
    "        for j in range(n):\n",
    "            element = int(input(f\"Enter element at position ({i}, {j}): \"))\n",
    "            row.append(element)\n",
    "        matrix.append(row)\n",
    "\n",
    "    return matrix\n",
    "\n",
    "# Example usage:\n",
    "rows = int(input(\"Enter the number of rows: \"))\n",
    "columns = int(input(\"Enter the number of columns: \"))\n",
    "\n",
    "matrix = create_matrix(rows, columns)\n",
    "print(matrix)\n"
   ]
  },
  {
   "cell_type": "code",
   "execution_count": 5,
   "id": "a5ef255d",
   "metadata": {},
   "outputs": [
    {
     "name": "stdout",
     "output_type": "stream",
     "text": [
      "Addition:\n",
      "[6, 8]\n",
      "[10, 12]\n",
      "Multiplication:\n",
      "[19, 22]\n",
      "[43, 50]\n",
      "Transposition:\n",
      "[1, 3]\n",
      "[2, 4]\n"
     ]
    }
   ],
   "source": [
    "def add_matrices(matrix1, matrix2):\n",
    "    result = []\n",
    "\n",
    "    for i in range(len(matrix1)):\n",
    "        row = []\n",
    "        for j in range(len(matrix1[0])):\n",
    "            element = matrix1[i][j] + matrix2[i][j]\n",
    "            row.append(element)\n",
    "        result.append(row)\n",
    "\n",
    "    return result\n",
    "\n",
    "def multiply_matrices(matrix1, matrix2):\n",
    "    result = []\n",
    "\n",
    "    for i in range(len(matrix1)):\n",
    "        row = []\n",
    "        for j in range(len(matrix2[0])):\n",
    "            element = 0\n",
    "            for k in range(len(matrix2)):\n",
    "                element += matrix1[i][k] * matrix2[k][j]\n",
    "            row.append(element)\n",
    "        result.append(row)\n",
    "\n",
    "    return result\n",
    "\n",
    "def transpose_matrix(matrix):\n",
    "    result = []\n",
    "\n",
    "    for j in range(len(matrix[0])):\n",
    "        row = []\n",
    "        for i in range(len(matrix)):\n",
    "            element = matrix[i][j]\n",
    "            row.append(element)\n",
    "        result.append(row)\n",
    "\n",
    "    return result\n",
    "\n",
    "# Example usage:\n",
    "matrix1 = [[1, 2], [3, 4]]\n",
    "matrix2 = [[5, 6], [7, 8]]\n",
    "\n",
    "addition = add_matrices(matrix1, matrix2)\n",
    "multiplication = multiply_matrices(matrix1, matrix2)\n",
    "transposition = transpose_matrix(matrix1)\n",
    "\n",
    "print(\"Addition:\")\n",
    "for row in addition:\n",
    "    print(row)\n",
    "\n",
    "print(\"Multiplication:\")\n",
    "for row in multiplication:\n",
    "    print(row)\n",
    "\n",
    "print(\"Transposition:\")\n",
    "for row in transposition:\n",
    "    print(row)\n"
   ]
  }
 ],
 "metadata": {
  "kernelspec": {
   "display_name": "Python 3 (ipykernel)",
   "language": "python",
   "name": "python3"
  },
  "language_info": {
   "codemirror_mode": {
    "name": "ipython",
    "version": 3
   },
   "file_extension": ".py",
   "mimetype": "text/x-python",
   "name": "python",
   "nbconvert_exporter": "python",
   "pygments_lexer": "ipython3",
   "version": "3.10.7"
  }
 },
 "nbformat": 4,
 "nbformat_minor": 5
}
