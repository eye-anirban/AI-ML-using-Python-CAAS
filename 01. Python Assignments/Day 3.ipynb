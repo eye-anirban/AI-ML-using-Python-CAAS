{
 "cells": [
  {
   "cell_type": "markdown",
   "id": "a928f04c",
   "metadata": {},
   "source": [
    "### 1.What are Data Structures? List some of data structures and their use in real world application?"
   ]
  },
  {
   "cell_type": "markdown",
   "id": "d4e109c3",
   "metadata": {},
   "source": [
    "Data Structures:\n",
    "Data structures are a way of organizing and storing data in a computer program. Some commonly used data structures include:\n",
    "Arrays: Used for storing a collection of elements of the same type.\n",
    "Linked Lists: A sequence of nodes where each node contains data and a reference to the next node.\n",
    "Stacks: A Last-In-First-Out (LIFO) data structure.\n",
    "Queues: A First-In-First-Out (FIFO) data structure.\n",
    "Trees: Hierarchical data structures with nodes connected by edges.\n",
    "Graphs: A collection of nodes connected by edges.\n",
    "Hash Tables: Used for efficient key-value pair storage and retrieval."
   ]
  },
  {
   "cell_type": "markdown",
   "id": "536acc73",
   "metadata": {},
   "source": [
    "### 3.Create a list data type and store names of your friends in it (at least 5), check out what are methods available in list data type, try to figure out their working using help function in python."
   ]
  },
  {
   "cell_type": "code",
   "execution_count": 2,
   "id": "1b776773",
   "metadata": {},
   "outputs": [
    {
     "name": "stdout",
     "output_type": "stream",
     "text": [
      "Help on class list in module builtins:\n",
      "\n",
      "class list(object)\n",
      " |  list(iterable=(), /)\n",
      " |  \n",
      " |  Built-in mutable sequence.\n",
      " |  \n",
      " |  If no argument is given, the constructor creates a new empty list.\n",
      " |  The argument must be an iterable if specified.\n",
      " |  \n",
      " |  Methods defined here:\n",
      " |  \n",
      " |  __add__(self, value, /)\n",
      " |      Return self+value.\n",
      " |  \n",
      " |  __contains__(self, key, /)\n",
      " |      Return key in self.\n",
      " |  \n",
      " |  __delitem__(self, key, /)\n",
      " |      Delete self[key].\n",
      " |  \n",
      " |  __eq__(self, value, /)\n",
      " |      Return self==value.\n",
      " |  \n",
      " |  __ge__(self, value, /)\n",
      " |      Return self>=value.\n",
      " |  \n",
      " |  __getattribute__(self, name, /)\n",
      " |      Return getattr(self, name).\n",
      " |  \n",
      " |  __getitem__(...)\n",
      " |      x.__getitem__(y) <==> x[y]\n",
      " |  \n",
      " |  __gt__(self, value, /)\n",
      " |      Return self>value.\n",
      " |  \n",
      " |  __iadd__(self, value, /)\n",
      " |      Implement self+=value.\n",
      " |  \n",
      " |  __imul__(self, value, /)\n",
      " |      Implement self*=value.\n",
      " |  \n",
      " |  __init__(self, /, *args, **kwargs)\n",
      " |      Initialize self.  See help(type(self)) for accurate signature.\n",
      " |  \n",
      " |  __iter__(self, /)\n",
      " |      Implement iter(self).\n",
      " |  \n",
      " |  __le__(self, value, /)\n",
      " |      Return self<=value.\n",
      " |  \n",
      " |  __len__(self, /)\n",
      " |      Return len(self).\n",
      " |  \n",
      " |  __lt__(self, value, /)\n",
      " |      Return self<value.\n",
      " |  \n",
      " |  __mul__(self, value, /)\n",
      " |      Return self*value.\n",
      " |  \n",
      " |  __ne__(self, value, /)\n",
      " |      Return self!=value.\n",
      " |  \n",
      " |  __repr__(self, /)\n",
      " |      Return repr(self).\n",
      " |  \n",
      " |  __reversed__(self, /)\n",
      " |      Return a reverse iterator over the list.\n",
      " |  \n",
      " |  __rmul__(self, value, /)\n",
      " |      Return value*self.\n",
      " |  \n",
      " |  __setitem__(self, key, value, /)\n",
      " |      Set self[key] to value.\n",
      " |  \n",
      " |  __sizeof__(self, /)\n",
      " |      Return the size of the list in memory, in bytes.\n",
      " |  \n",
      " |  append(self, object, /)\n",
      " |      Append object to the end of the list.\n",
      " |  \n",
      " |  clear(self, /)\n",
      " |      Remove all items from list.\n",
      " |  \n",
      " |  copy(self, /)\n",
      " |      Return a shallow copy of the list.\n",
      " |  \n",
      " |  count(self, value, /)\n",
      " |      Return number of occurrences of value.\n",
      " |  \n",
      " |  extend(self, iterable, /)\n",
      " |      Extend list by appending elements from the iterable.\n",
      " |  \n",
      " |  index(self, value, start=0, stop=9223372036854775807, /)\n",
      " |      Return first index of value.\n",
      " |      \n",
      " |      Raises ValueError if the value is not present.\n",
      " |  \n",
      " |  insert(self, index, object, /)\n",
      " |      Insert object before index.\n",
      " |  \n",
      " |  pop(self, index=-1, /)\n",
      " |      Remove and return item at index (default last).\n",
      " |      \n",
      " |      Raises IndexError if list is empty or index is out of range.\n",
      " |  \n",
      " |  remove(self, value, /)\n",
      " |      Remove first occurrence of value.\n",
      " |      \n",
      " |      Raises ValueError if the value is not present.\n",
      " |  \n",
      " |  reverse(self, /)\n",
      " |      Reverse *IN PLACE*.\n",
      " |  \n",
      " |  sort(self, /, *, key=None, reverse=False)\n",
      " |      Sort the list in ascending order and return None.\n",
      " |      \n",
      " |      The sort is in-place (i.e. the list itself is modified) and stable (i.e. the\n",
      " |      order of two equal elements is maintained).\n",
      " |      \n",
      " |      If a key function is given, apply it once to each list item and sort them,\n",
      " |      ascending or descending, according to their function values.\n",
      " |      \n",
      " |      The reverse flag can be set to sort in descending order.\n",
      " |  \n",
      " |  ----------------------------------------------------------------------\n",
      " |  Class methods defined here:\n",
      " |  \n",
      " |  __class_getitem__(...) from builtins.type\n",
      " |      See PEP 585\n",
      " |  \n",
      " |  ----------------------------------------------------------------------\n",
      " |  Static methods defined here:\n",
      " |  \n",
      " |  __new__(*args, **kwargs) from builtins.type\n",
      " |      Create and return a new object.  See help(type) for accurate signature.\n",
      " |  \n",
      " |  ----------------------------------------------------------------------\n",
      " |  Data and other attributes defined here:\n",
      " |  \n",
      " |  __hash__ = None\n",
      "\n"
     ]
    }
   ],
   "source": [
    "friends = ['Alice', 'Bob', 'Charlie', 'David', 'Emily']\n",
    "help(list)"
   ]
  },
  {
   "cell_type": "markdown",
   "id": "513d97ac",
   "metadata": {},
   "source": [
    "### 4.What is difference between ordered data type and unordered data type? "
   ]
  },
  {
   "cell_type": "markdown",
   "id": "82190824",
   "metadata": {},
   "source": [
    "The difference between an ordered data type and an unordered data type lies in how the elements are organized and accessed:\n",
    "\n",
    "Ordered Data Type: Elements in an ordered data type have a specific order or sequence. The order of elements remains fixed, allowing for predictable traversal and indexing. Examples include lists, arrays, and tuples.\n",
    "\n",
    "Unordered Data Type: Elements in an unordered data type have no inherent order or sequence. The order of elements can change or is not relevant for their usage. Accessing elements is typically done through a key or a hash function rather than by position. Examples include sets and dictionaries.\n",
    "\n",
    "In summary, ordered data types maintain a specific order of elements, while unordered data types do not have a predefined order and provide faster access based on keys or hash values."
   ]
  },
  {
   "cell_type": "markdown",
   "id": "08e91d4d",
   "metadata": {},
   "source": [
    "### 5.Write down types of each value given? (In python)\n",
    "a.100\n",
    "b.105.5\n",
    "c.192.56j\n",
    "d.10+6j \n",
    "e.‘10’\n",
    "f.‘Hello world’5 \n",
    "g.[ 10, 20, 50, 100]\n",
    "h.{‘name’: ‘sachin’, ‘age’: 24, ‘language’: ‘python’}"
   ]
  },
  {
   "cell_type": "code",
   "execution_count": 3,
   "id": "c1d6780a",
   "metadata": {},
   "outputs": [
    {
     "name": "stdout",
     "output_type": "stream",
     "text": [
      "100: int\n",
      "105.5: float\n",
      "192.56j: complex\n",
      "(10+6j): complex\n",
      "10: str\n",
      "Hello world: str\n",
      "[10, 20, 50, 100]: list\n",
      "{'name': 'sachin', 'age': 24, 'language': 'python'}: dict\n"
     ]
    }
   ],
   "source": [
    "values = [100, 105.5, 192.56j, 10+6j, '10', 'Hello world', [10, 20, 50, 100], \n",
    "          {'name': 'sachin', 'age': 24, 'language': 'python'}]\n",
    "\n",
    "for value in values:\n",
    "    print(f\"{value}: {type(value).__name__}\")"
   ]
  }
 ],
 "metadata": {
  "kernelspec": {
   "display_name": "Python 3 (ipykernel)",
   "language": "python",
   "name": "python3"
  },
  "language_info": {
   "codemirror_mode": {
    "name": "ipython",
    "version": 3
   },
   "file_extension": ".py",
   "mimetype": "text/x-python",
   "name": "python",
   "nbconvert_exporter": "python",
   "pygments_lexer": "ipython3",
   "version": "3.10.7"
  }
 },
 "nbformat": 4,
 "nbformat_minor": 5
}
