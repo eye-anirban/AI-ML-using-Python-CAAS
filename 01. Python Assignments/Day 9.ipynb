{
 "cells": [
  {
   "cell_type": "markdown",
   "id": "cefc50e0",
   "metadata": {},
   "source": [
    "### QUESTIONS\n",
    "1.Write a Python program to check whether a number is negative, positive or zero.\n",
    "\n",
    "2.Write a Python program to check whether a number is divisible by 5 and 11 or not.\n",
    "\n",
    "3.Write a Python program to check whether a year is leap year or not.\n",
    "\n",
    "4.Write a Python program to check whether a character is alphabet or not.\n",
    "\n",
    "5.Write a Python program to input any alphabet and check whether it is vowel or consonant.\n",
    "\n",
    "6.Write a Python program to input any character and check whether it is alphabet, digit or special character.\n",
    "\n",
    "7.Write a Python program to check whether a character is uppercase or lowercase alphabet.\n",
    "\n",
    "8.Write a Python program to input week number and print weekday.\n",
    "\n",
    "9.Write a Python program to input angles of a triangle and check whether triangle is valid or not.\n",
    "\n",
    "10.Write a Python program to input all sides of a triangle and check whether triangle is valid or not.\n",
    "\n",
    "11.Write a Python program to check whether the triangle is equilateral, isosceles or scalene triangle.\n",
    "\n",
    "12.Write a Python program to input marks of five subjects Physics, Chemistry, Biology, Mathematics and Computer. Calculate percentage and grade according to following: \n",
    "\n",
    "                   Percentage >= 90% : Grade A\n",
    "                   \n",
    "                   Percentage >= 80% : Grade B \n",
    "                   \n",
    "                   Percentage >= 70% : Grade C \n",
    "                   \n",
    "                   Percentage >= 60% : Grade D \n",
    "                   \n",
    "                   Percentage >= 40% : Grade E\n",
    "                   \n",
    "                   Percentage < 40% : Grade F\n",
    "                   \n",
    "13.Write a Python program to input basic salary of an employee and calculate its Gross salary according to following: \n",
    "\n",
    "                Basic Salary <= 10000 : HRA = 20%, DA = 80% \n",
    "                \n",
    "                Basic Salary <= 20000 : HRA = 25%, DA = 90% \n",
    "                \n",
    "                Basic Salary > 20000 : HRA = 30%, DA = 95%\n",
    "                \n",
    "14.Write a Python Program to input electricity unit charges and calculate total electricity bill according to the given condition: \n",
    "\n",
    "For first 50 units Rs. 0.50/unit\n",
    "\n",
    "For next 100 units Rs. 0.75/unit\n",
    "\n",
    "For next 100 units Rs. 1.20/unit\n",
    "\n",
    "For unit above 250 Rs. 1.50/unit\n",
    "\n",
    "An additional surcharge of 20% is added to the bill\n",
    "\n",
    "### ANSWERS\n"
   ]
  },
  {
   "cell_type": "code",
   "execution_count": 1,
   "id": "50c18547",
   "metadata": {},
   "outputs": [
    {
     "name": "stdout",
     "output_type": "stream",
     "text": [
      "Enter a number: 5\n",
      "Positive number\n"
     ]
    }
   ],
   "source": [
    "number = float(input(\"Enter a number: \"))\n",
    "\n",
    "if number > 0:\n",
    "    print(\"Positive number\")\n",
    "elif number < 0:\n",
    "    print(\"Negative number\")\n",
    "else:\n",
    "    print(\"Zero\")\n"
   ]
  },
  {
   "cell_type": "code",
   "execution_count": 3,
   "id": "511c9e70",
   "metadata": {},
   "outputs": [
    {
     "name": "stdout",
     "output_type": "stream",
     "text": [
      "Enter a number: 5\n",
      "Not divisible by 5 and 11\n"
     ]
    }
   ],
   "source": [
    "number = int(input(\"Enter a number: \"))\n",
    "\n",
    "if number % 5 == 0 and number % 11 == 0:\n",
    "    print(\"Divisible by 5 and 11\")\n",
    "else:\n",
    "    print(\"Not divisible by 5 and 11\")\n"
   ]
  },
  {
   "cell_type": "code",
   "execution_count": 4,
   "id": "45e07d31",
   "metadata": {},
   "outputs": [
    {
     "name": "stdout",
     "output_type": "stream",
     "text": [
      "Enter a year: 2020\n",
      "Leap year\n"
     ]
    }
   ],
   "source": [
    "year = int(input(\"Enter a year: \"))\n",
    "\n",
    "if year % 4 == 0 and (year % 100 != 0 or year % 400 == 0):\n",
    "    print(\"Leap year\")\n",
    "else:\n",
    "    print(\"Not a leap year\")\n"
   ]
  },
  {
   "cell_type": "code",
   "execution_count": 5,
   "id": "2e75f2f6",
   "metadata": {},
   "outputs": [
    {
     "name": "stdout",
     "output_type": "stream",
     "text": [
      "Enter a character: %\n",
      "Not an alphabet\n"
     ]
    }
   ],
   "source": [
    "character = input(\"Enter a character: \")\n",
    "\n",
    "if character.isalpha():\n",
    "    print(\"Alphabet\")\n",
    "else:\n",
    "    print(\"Not an alphabet\")\n"
   ]
  },
  {
   "cell_type": "code",
   "execution_count": 8,
   "id": "38ce15f9",
   "metadata": {},
   "outputs": [
    {
     "name": "stdout",
     "output_type": "stream",
     "text": [
      "Enter an alphabet: z\n",
      "Consonant\n"
     ]
    }
   ],
   "source": [
    "alphabet = input(\"Enter an alphabet: \")\n",
    "\n",
    "if alphabet.lower() in ['a', 'e', 'i', 'o', 'u']:\n",
    "    print(\"Vowel\")\n",
    "else:\n",
    "    print(\"Consonant\")\n"
   ]
  },
  {
   "cell_type": "code",
   "execution_count": 9,
   "id": "3e57315d",
   "metadata": {},
   "outputs": [
    {
     "name": "stdout",
     "output_type": "stream",
     "text": [
      "Enter a character: 4\n",
      "Digit\n"
     ]
    }
   ],
   "source": [
    "character = input(\"Enter a character: \")\n",
    "\n",
    "if character.isalpha():\n",
    "    print(\"Alphabet\")\n",
    "elif character.isdigit():\n",
    "    print(\"Digit\")\n",
    "else:\n",
    "    print(\"Special character\")\n"
   ]
  },
  {
   "cell_type": "code",
   "execution_count": 11,
   "id": "0793ee52",
   "metadata": {},
   "outputs": [
    {
     "name": "stdout",
     "output_type": "stream",
     "text": [
      "Enter a character: 6\n",
      "Not an alphabet\n"
     ]
    }
   ],
   "source": [
    "character = input(\"Enter a character: \")\n",
    "\n",
    "if character.isalpha():\n",
    "    if character.isupper():\n",
    "        print(\"Uppercase alphabet\")\n",
    "    else:\n",
    "        print(\"Lowercase alphabet\")\n",
    "else:\n",
    "    print(\"Not an alphabet\")\n"
   ]
  },
  {
   "cell_type": "code",
   "execution_count": 12,
   "id": "7dc066ba",
   "metadata": {},
   "outputs": [
    {
     "name": "stdout",
     "output_type": "stream",
     "text": [
      "Enter the week number (1-7): 6\n",
      "Saturday\n"
     ]
    }
   ],
   "source": [
    "week_number = int(input(\"Enter the week number (1-7): \"))\n",
    "\n",
    "if week_number == 1:\n",
    "    print(\"Monday\")\n",
    "elif week_number == 2:\n",
    "    print(\"Tuesday\")\n",
    "elif week_number == 3:\n",
    "    print(\"Wednesday\")\n",
    "elif week_number == 4:\n",
    "    print(\"Thursday\")\n",
    "elif week_number == 5:\n",
    "    print(\"Friday\")\n",
    "elif week_number == 6:\n",
    "    print(\"Saturday\")\n",
    "elif week_number == 7:\n",
    "    print(\"Sunday\")\n",
    "else:\n",
    "    print(\"Invalid week number\")\n"
   ]
  },
  {
   "cell_type": "code",
   "execution_count": 13,
   "id": "c627266a",
   "metadata": {},
   "outputs": [
    {
     "name": "stdout",
     "output_type": "stream",
     "text": [
      "Enter the first angle: 45\n",
      "Enter the second angle: 45\n",
      "Enter the third angle: 90\n",
      "Valid triangle\n"
     ]
    }
   ],
   "source": [
    "angle1 = float(input(\"Enter the first angle: \"))\n",
    "angle2 = float(input(\"Enter the second angle: \"))\n",
    "angle3 = float(input(\"Enter the third angle: \"))\n",
    "\n",
    "if angle1 + angle2 + angle3 == 180:\n",
    "    print(\"Valid triangle\")\n",
    "else:\n",
    "    print(\"Invalid triangle\")\n"
   ]
  },
  {
   "cell_type": "code",
   "execution_count": 14,
   "id": "7ca9d55b",
   "metadata": {},
   "outputs": [
    {
     "name": "stdout",
     "output_type": "stream",
     "text": [
      "Enter the first side length: 5\n",
      "Enter the second side length: 6\n",
      "Enter the third side length: 7\n",
      "Valid triangle\n"
     ]
    }
   ],
   "source": [
    "side1 = float(input(\"Enter the first side length: \"))\n",
    "side2 = float(input(\"Enter the second side length: \"))\n",
    "side3 = float(input(\"Enter the third side length: \"))\n",
    "\n",
    "if side1 + side2 > side3 and side1 + side3 > side2 and side2 + side3 > side1:\n",
    "    print(\"Valid triangle\")\n",
    "else:\n",
    "    print(\"Invalid triangle\")\n"
   ]
  },
  {
   "cell_type": "code",
   "execution_count": 15,
   "id": "42a6d7b2",
   "metadata": {},
   "outputs": [
    {
     "name": "stdout",
     "output_type": "stream",
     "text": [
      "Enter the first side length: 5\n",
      "Enter the second side length: 5\n",
      "Enter the third side length: 8\n",
      "Isosceles triangle\n"
     ]
    }
   ],
   "source": [
    "side1 = float(input(\"Enter the first side length: \"))\n",
    "side2 = float(input(\"Enter the second side length: \"))\n",
    "side3 = float(input(\"Enter the third side length: \"))\n",
    "\n",
    "if side1 == side2 == side3:\n",
    "    print(\"Equilateral triangle\")\n",
    "elif side1 == side2 or side1 == side3 or side2 == side3:\n",
    "    print(\"Isosceles triangle\")\n",
    "else:\n",
    "    print(\"Scalene triangle\")\n"
   ]
  },
  {
   "cell_type": "code",
   "execution_count": 16,
   "id": "8c1e8b9e",
   "metadata": {},
   "outputs": [
    {
     "name": "stdout",
     "output_type": "stream",
     "text": [
      "Enter marks in Physics: 80\n",
      "Enter marks in Chemistry: 90\n",
      "Enter marks in Biology: 100\n",
      "Enter marks in Mathematics: 100\n",
      "Enter marks in Computer: 100\n",
      "Percentage: 94.0\n",
      "Grade: A\n"
     ]
    }
   ],
   "source": [
    "marks_physics = float(input(\"Enter marks in Physics: \"))\n",
    "marks_chemistry = float(input(\"Enter marks in Chemistry: \"))\n",
    "marks_biology = float(input(\"Enter marks in Biology: \"))\n",
    "marks_mathematics = float(input(\"Enter marks in Mathematics: \"))\n",
    "marks_computer = float(input(\"Enter marks in Computer: \"))\n",
    "\n",
    "total_marks = 500\n",
    "obtained_marks = marks_physics + marks_chemistry + marks_biology + marks_mathematics + marks_computer\n",
    "percentage = (obtained_marks / total_marks) * 100\n",
    "\n",
    "if percentage >= 90:\n",
    "    grade = 'A'\n",
    "elif percentage >= 80:\n",
    "    grade = 'B'\n",
    "elif percentage >= 70:\n",
    "    grade = 'C'\n",
    "elif percentage >= 60:\n",
    "    grade = 'D'\n",
    "elif percentage >= 40:\n",
    "    grade = 'E'\n",
    "else:\n",
    "    grade = 'F'\n",
    "\n",
    "print(\"Percentage:\", percentage)\n",
    "print(\"Grade:\", grade)\n"
   ]
  },
  {
   "cell_type": "code",
   "execution_count": 17,
   "id": "d8ba0491",
   "metadata": {},
   "outputs": [
    {
     "name": "stdout",
     "output_type": "stream",
     "text": [
      "Enter the basic salary: 80000\n",
      "Gross Salary: 180000.0\n"
     ]
    }
   ],
   "source": [
    "basic_salary = float(input(\"Enter the basic salary: \"))\n",
    "\n",
    "if basic_salary <= 10000:\n",
    "    hra = 0.2 * basic_salary\n",
    "    da = 0.8 * basic_salary\n",
    "elif basic_salary <= 20000:\n",
    "    hra = 0.25 * basic_salary\n",
    "    da = 0.9 * basic_salary\n",
    "else:\n",
    "    hra = 0.3 * basic_salary\n",
    "    da = 0.95 * basic_salary\n",
    "\n",
    "gross_salary = basic_salary + hra + da\n",
    "\n",
    "print(\"Gross Salary:\", gross_salary)\n"
   ]
  },
  {
   "cell_type": "code",
   "execution_count": 18,
   "id": "6f0e8f2b",
   "metadata": {},
   "outputs": [
    {
     "name": "stdout",
     "output_type": "stream",
     "text": [
      "Enter the electricity units consumed: 56\n",
      "Total Electricity Bill: 35.4\n"
     ]
    }
   ],
   "source": [
    "units = float(input(\"Enter the electricity units consumed: \"))\n",
    "\n",
    "if units <= 50:\n",
    "    bill = units * 0.5\n",
    "elif units <= 150:\n",
    "    bill = 50 * 0.5 + (units - 50) * 0.75\n",
    "elif units <= 250:\n",
    "    bill = 50 * 0.5 + 100 * 0.75 + (units - 150) * 1.2\n",
    "else:\n",
    "    bill = 50 * 0.5 + 100 * 0.75 + 100 * 1.2 + (units - 250) * 1.5\n",
    "\n",
    "surcharge = 0.2 * bill\n",
    "total_bill = bill + surcharge\n",
    "\n",
    "print(\"Total Electricity Bill:\", total_bill)\n"
   ]
  }
 ],
 "metadata": {
  "kernelspec": {
   "display_name": "Python 3 (ipykernel)",
   "language": "python",
   "name": "python3"
  },
  "language_info": {
   "codemirror_mode": {
    "name": "ipython",
    "version": 3
   },
   "file_extension": ".py",
   "mimetype": "text/x-python",
   "name": "python",
   "nbconvert_exporter": "python",
   "pygments_lexer": "ipython3",
   "version": "3.10.7"
  }
 },
 "nbformat": 4,
 "nbformat_minor": 5
}
