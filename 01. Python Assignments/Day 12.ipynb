{
 "cells": [
  {
   "cell_type": "markdown",
   "id": "c1ed46c1",
   "metadata": {},
   "source": [
    "1.Write a code to implement Guess Game Guess Game constraints / Rules you have 5 chance to guess correct number which is choosen by computer / friend\n",
    "\n",
    "Range which is allowed to select a number 1-50\n",
    "\n",
    "After each guess you should give some tips / hints to user to improve their chance of winning\n",
    "\n",
    "for example if user guess a number which is higher than actual number you should say 'hint: think a low number!'\n",
    "\n",
    "if user guess a number which is lower than actual number you should say 'hint: think a big number!'\n",
    "\n",
    "      if user wins we will show a congrats messege and stop our game\n",
    "      \n",
    "      if any time user guess is out of limit than print a warning message saying Think in Limits 1-50 only!\n",
    "      \n",
    "      but we do not count this as a chance\n",
    "      \n",
    "\n",
    "5.Write a program to sort a list without using inbuilt functions (list.sort not allowed)\n",
    "\n",
    "a.Using Bubble Sort Algorithm\n",
    "\n",
    "b.Using Insertion Sort Algorithm \n",
    "\n",
    "c.Using Selection Sort Algorithm\n"
   ]
  },
  {
   "cell_type": "code",
   "execution_count": 3,
   "id": "a4681897",
   "metadata": {},
   "outputs": [
    {
     "name": "stdout",
     "output_type": "stream",
     "text": [
      "Welcome to the Guess Game!\n",
      "You have 5 chances to guess the correct number between 1 and 50.\n",
      "Enter your guess: 25\n",
      "Hint: Think of a smaller number!\n",
      "Chances left: 4\n",
      "Enter your guess: 5\n",
      "Hint: Think of a bigger number!\n",
      "Chances left: 3\n",
      "Enter your guess: 15\n",
      "Hint: Think of a smaller number!\n",
      "Chances left: 2\n",
      "Enter your guess: 10\n",
      "Hint: Think of a bigger number!\n",
      "Chances left: 1\n",
      "Enter your guess: 12\n",
      "Hint: Think of a smaller number!\n",
      "Chances left: 0\n",
      "Game Over! You couldn't guess the number. The correct number was: 11\n"
     ]
    }
   ],
   "source": [
    "import random\n",
    "\n",
    "def guess_game():\n",
    "    print(\"Welcome to the Guess Game!\")\n",
    "    print(\"You have 5 chances to guess the correct number between 1 and 50.\")\n",
    "    \n",
    "    secret_number = random.randint(1, 50)\n",
    "    chances = 5\n",
    "    \n",
    "    while chances > 0:\n",
    "        guess = int(input(\"Enter your guess: \"))\n",
    "        \n",
    "        if guess < 1 or guess > 50:\n",
    "            print(\"Think within limits 1-50 only!\")\n",
    "            continue\n",
    "        \n",
    "        if guess == secret_number:\n",
    "            print(\"Congratulations! You guessed the correct number:\", secret_number)\n",
    "            break\n",
    "        elif guess < secret_number:\n",
    "            print(\"Hint: Think of a bigger number!\")\n",
    "        else:\n",
    "            print(\"Hint: Think of a smaller number!\")\n",
    "        \n",
    "        chances -= 1\n",
    "        print(\"Chances left:\", chances)\n",
    "    \n",
    "    if chances == 0:\n",
    "        print(\"Game Over! You couldn't guess the number. The correct number was:\", secret_number)\n",
    "\n",
    "guess_game()\n"
   ]
  },
  {
   "cell_type": "code",
   "execution_count": 4,
   "id": "b5e78082",
   "metadata": {},
   "outputs": [
    {
     "name": "stdout",
     "output_type": "stream",
     "text": [
      "[1, 2, 5, 7, 9]\n"
     ]
    }
   ],
   "source": [
    "def bubble_sort(arr):\n",
    "    n = len(arr)\n",
    "    \n",
    "    for i in range(n - 1):\n",
    "        for j in range(n - i - 1):\n",
    "            if arr[j] > arr[j + 1]:\n",
    "                arr[j], arr[j + 1] = arr[j + 1], arr[j]\n",
    "\n",
    "# Example usage:\n",
    "my_list = [5, 2, 9, 1, 7]\n",
    "bubble_sort(my_list)\n",
    "print(my_list)\n"
   ]
  },
  {
   "cell_type": "code",
   "execution_count": 5,
   "id": "0a5bb26c",
   "metadata": {},
   "outputs": [
    {
     "name": "stdout",
     "output_type": "stream",
     "text": [
      "[1, 2, 5, 7, 9]\n"
     ]
    }
   ],
   "source": [
    "def insertion_sort(arr):\n",
    "    for i in range(1, len(arr)):\n",
    "        key = arr[i]\n",
    "        j = i - 1\n",
    "        \n",
    "        while j >= 0 and arr[j] > key:\n",
    "            arr[j + 1] = arr[j]\n",
    "            j -= 1\n",
    "        \n",
    "        arr[j + 1] = key\n",
    "\n",
    "# Example usage:\n",
    "my_list = [5, 2, 9, 1, 7]\n",
    "insertion_sort(my_list)\n",
    "print(my_list)\n"
   ]
  },
  {
   "cell_type": "code",
   "execution_count": 6,
   "id": "53a8943e",
   "metadata": {},
   "outputs": [
    {
     "name": "stdout",
     "output_type": "stream",
     "text": [
      "[1, 2, 5, 7, 9]\n"
     ]
    }
   ],
   "source": [
    "def selection_sort(arr):\n",
    "    n = len(arr)\n",
    "    \n",
    "    for i in range(n - 1):\n",
    "        min_index = i\n",
    "        \n",
    "        for j in range(i + 1, n):\n",
    "            if arr[j] < arr[min_index]:\n",
    "                min_index = j\n",
    "        \n",
    "        arr[i], arr[min_index] = arr[min_index], arr[i]\n",
    "\n",
    "# Example usage:\n",
    "my_list = [5, 2, 9, 1, 7]\n",
    "selection_sort(my_list)\n",
    "print(my_list)\n"
   ]
  }
 ],
 "metadata": {
  "kernelspec": {
   "display_name": "Python 3 (ipykernel)",
   "language": "python",
   "name": "python3"
  },
  "language_info": {
   "codemirror_mode": {
    "name": "ipython",
    "version": 3
   },
   "file_extension": ".py",
   "mimetype": "text/x-python",
   "name": "python",
   "nbconvert_exporter": "python",
   "pygments_lexer": "ipython3",
   "version": "3.10.7"
  }
 },
 "nbformat": 4,
 "nbformat_minor": 5
}
