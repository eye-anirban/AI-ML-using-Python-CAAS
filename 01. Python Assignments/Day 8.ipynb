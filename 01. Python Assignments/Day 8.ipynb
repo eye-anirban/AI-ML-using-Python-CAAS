{
 "cells": [
  {
   "cell_type": "markdown",
   "id": "e1c70b41",
   "metadata": {},
   "source": [
    "### 1.What are the two values of the Boolean data type? How do you write them?\n",
    "### 2.What are the three Boolean operators?\n",
    "### 3.Write out the truth tables of each Boolean operator (that is, every possible combination of Boolean values for the operator and what they evaluate to).\n",
    "### 4. What do the following expressions evaluate to?\n",
    "(5 > 4) and (3 == 5)\n",
    "\n",
    "not (5 > 4)\n",
    "\n",
    "(5 > 4) or (3 == 5)\n",
    "\n",
    "not ((5 > 4) or (3 == 5))\n",
    "\n",
    "(True and True) and (True == False)\n",
    "\n",
    "(not False) or (not True)\n",
    "### 5. What are the six comparison operators?\t\n",
    "### 6.What is the difference between the equal to operator and the assignment operator?\n",
    "### 7.Explain what a condition is and where you would use one."
   ]
  },
  {
   "cell_type": "markdown",
   "id": "a032dbb8",
   "metadata": {},
   "source": [
    "## ANSWERS\n",
    "\n",
    "The two values of the Boolean data type are True and False. They are written with the first letter capitalized."
   ]
  },
  {
   "cell_type": "markdown",
   "id": "41df1d13",
   "metadata": {},
   "source": [
    "The three Boolean operators are:\n",
    "\n",
    "and: Returns True if both operands are True, otherwise returns False.\n",
    "or: Returns True if at least one of the operands is True, otherwise returns False.\n",
    "not: Returns the opposite Boolean value of the operand (True becomes False and vice versa)."
   ]
  },
  {
   "cell_type": "markdown",
   "id": "fc84a253",
   "metadata": {},
   "source": [
    "and:\n",
    "True  and True   => True\n",
    "True  and False  => False\n",
    "False and True   => False\n",
    "False and False  => False\n",
    "\n",
    "or:\n",
    "True  or True    => True\n",
    "True  or False   => True\n",
    "False or True    => True\n",
    "False or False   => False\n",
    "\n",
    "not:\n",
    "not True   => False\n",
    "not False  => True"
   ]
  },
  {
   "cell_type": "markdown",
   "id": "5245b798",
   "metadata": {},
   "source": [
    "Evaluations of the given expressions:\n",
    "(5 > 4) and (3 == 5): False\n",
    "not (5 > 4): False\n",
    "(5 > 4) or (3 == 5): True\n",
    "not ((5 > 4) or (3 == 5)): False\n",
    "(True and True) and (True == False): False\n",
    "(not False) or (not True): True"
   ]
  },
  {
   "cell_type": "markdown",
   "id": "119d1662",
   "metadata": {},
   "source": [
    "The six comparison operators are:\n",
    "> (greater than)\n",
    "< (less than)\n",
    ">= (greater than or equal to)\n",
    "<= (less than or equal to)\n",
    "== (equal to)\n",
    "!= (not equal to)"
   ]
  },
  {
   "cell_type": "markdown",
   "id": "34894993",
   "metadata": {},
   "source": [
    "The equal to operator (==) is used to compare two values for equality. It checks if the values on both sides are the same.\n",
    "The assignment operator (=) is used to assign a value to a variable. It assigns the value on the right side to the variable on the left side."
   ]
  },
  {
   "cell_type": "markdown",
   "id": "c934b18b",
   "metadata": {},
   "source": [
    "A condition is an expression or statement that evaluates to either True or False. It is used in programming to make decisions or control the flow of execution. Conditions are often used in control structures like if statements and loops. They determine the path the program takes based on certain criteria."
   ]
  }
 ],
 "metadata": {
  "kernelspec": {
   "display_name": "Python 3 (ipykernel)",
   "language": "python",
   "name": "python3"
  },
  "language_info": {
   "codemirror_mode": {
    "name": "ipython",
    "version": 3
   },
   "file_extension": ".py",
   "mimetype": "text/x-python",
   "name": "python",
   "nbconvert_exporter": "python",
   "pygments_lexer": "ipython3",
   "version": "3.10.7"
  }
 },
 "nbformat": 4,
 "nbformat_minor": 5
}
