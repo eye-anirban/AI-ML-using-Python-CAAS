{
 "cells": [
  {
   "cell_type": "markdown",
   "id": "25d97737",
   "metadata": {},
   "source": [
    "# DAY 5"
   ]
  },
  {
   "cell_type": "markdown",
   "id": "1003d992",
   "metadata": {},
   "source": [
    "### 1.What is difference between shallow copy and deep copy?\n",
    "### 2.You want to create a library management application, you need to store data about books, students in your program, how will you store data inside python using list? Create some lists with fake data to store information about library management.\n",
    "### 3.This chapter introduced assignment statements, like spam = 10. What is the difference between an expression and a statement?\n",
    "### 4.Define following\n",
    "### a.Atomic data types / Primary data types\n",
    "### b.Secondary data type / User Defined Data Type\n",
    "### 5.What is UDF?"
   ]
  },
  {
   "cell_type": "markdown",
   "id": "29806b87",
   "metadata": {},
   "source": [
    "\n",
    "Shallow Copy vs. Deep Copy:\n",
    "Shallow Copy: It creates a new object and copies the reference of the original object. Both the original and copied objects point to the same memory locations, so changes made to one object may affect the other.\n",
    "Deep Copy: It creates a completely independent copy of the original object, including all nested objects. The original and copied objects are stored in separate memory locations, so changes made to one object do not affect the other."
   ]
  },
  {
   "cell_type": "code",
   "execution_count": 1,
   "id": "20c678be",
   "metadata": {},
   "outputs": [],
   "source": [
    "# List of books\n",
    "books = [\n",
    "    {'title': 'Book 1', 'author': 'Author 1', 'year': 2020},\n",
    "    {'title': 'Book 2', 'author': 'Author 2', 'year': 2021},\n",
    "    {'title': 'Book 3', 'author': 'Author 3', 'year': 2022}\n",
    "]\n",
    "\n",
    "# List of students\n",
    "students = [\n",
    "    {'name': 'John', 'id': 'S001'},\n",
    "    {'name': 'Alice', 'id': 'S002'},\n",
    "    {'name': 'Bob', 'id': 'S003'}\n",
    "]"
   ]
  },
  {
   "cell_type": "markdown",
   "id": "53bb6f87",
   "metadata": {},
   "source": [
    "Expression vs. Statement:\n",
    "Expression: An expression is a combination of values, variables, and operators that can be evaluated to produce a result. It represents a computation and returns a value. Examples include 5 + 3, x * y, or func(a, b).\n",
    "Statement: A statement is a complete instruction or command that performs an action. It can include expressions but is not required to produce a value. Examples include variable assignments (spam = 10), control flow statements (if, for, while), or function definitions."
   ]
  },
  {
   "cell_type": "markdown",
   "id": "5a59f94d",
   "metadata": {},
   "source": [
    "Definitions:\n",
    "a. Atomic Data Types / Primary Data Types: These are the basic, built-in data types in programming languages. In Python, they include integers (int), floating-point numbers (float), booleans (bool), and strings (str).\n",
    "b. Secondary Data Type / User Defined Data Type: These are data types created by users or programmers based on their specific requirements. They are constructed using primary data types and can be more complex. Examples include lists, sets, dictionaries, classes, and objects."
   ]
  },
  {
   "cell_type": "markdown",
   "id": "1218d35d",
   "metadata": {},
   "source": [
    "UDF (User-Defined Function):\n",
    "UDF refers to a function that is defined by the user or programmer to perform a specific task or set of operations. It allows for modularity and code reuse by encapsulating a block of code with a name. UDFs enhance the readability, maintainability, and reusability of the code. They can be defined using the def keyword in Python."
   ]
  },
  {
   "cell_type": "markdown",
   "id": "aead3f7c",
   "metadata": {},
   "source": [
    "# DAY 6"
   ]
  },
  {
   "cell_type": "markdown",
   "id": "192b9188",
   "metadata": {},
   "source": [
    "### 1.Write down 10 projects ideas you want to implement using python\n",
    "### 2.Create at list 5 objects using list, dictionary, it will be good if you store realistic data  \n",
    "### 3.What is duck typing in python, what are Dunder or special methods? \n",
    "### 4.What are operators? How many types of operators are there in python?"
   ]
  },
  {
   "cell_type": "markdown",
   "id": "202631f4",
   "metadata": {},
   "source": [
    "Project Ideas:\n",
    "\n",
    "a. To-Do List Manager\n",
    "\n",
    "b. Weather Forecast App\n",
    "\n",
    "c. Chatbot with Natural Language Processing\n",
    "\n",
    "d. Image Recognition System\n",
    "\n",
    "e. Web Scraping and Data Analysis Tool\n",
    "\n",
    "f. Movie Recommendation System\n",
    "\n",
    "g. Stock Market Analyzer\n",
    "\n",
    "h. Text-Based Adventure Game\n",
    "\n",
    "i. Personal Finance Tracker\n",
    "\n",
    "j. Recipe Organizer and Meal Planner"
   ]
  },
  {
   "cell_type": "code",
   "execution_count": 3,
   "id": "e3a20ede",
   "metadata": {},
   "outputs": [],
   "source": [
    "# List of books\n",
    "books = [\n",
    "    {'title': 'Python Crash Course', 'author': 'Eric Matthes', 'year': 2015},\n",
    "    {'title': 'The Great Gatsby', 'author': 'F. Scott Fitzgerald', 'year': 1925},\n",
    "    {'title': 'The Hobbit', 'author': 'J.R.R. Tolkien', 'year': 1937}\n",
    "]\n",
    "\n",
    "# Dictionary of a student\n",
    "student = {\n",
    "    'name': 'John Smith',\n",
    "    'age': 21,\n",
    "    'major': 'Computer Science',\n",
    "    'courses': ['Programming', 'Data Structures']\n",
    "}\n",
    "\n",
    "# List of cities\n",
    "cities = ['New York', 'London', 'Paris', 'Tokyo']\n",
    "\n",
    "# Dictionary of a car\n",
    "car = {\n",
    "    'brand': 'Tesla',\n",
    "    'model': 'Model 3',\n",
    "    'year': 2022,\n",
    "    'color': 'Red'\n",
    "}"
   ]
  },
  {
   "cell_type": "markdown",
   "id": "a89b8572",
   "metadata": {},
   "source": [
    "Duck Typing and Dunder/Special Methods:\n",
    "Duck Typing: It is a concept in Python where the type or class of an object is less important than the methods and attributes it possesses. If an object walks like a duck and quacks like a duck, it is treated as a duck. Python focuses on the behavior of objects rather than their types.\n",
    "Dunder or Special Methods: Dunder or special methods are predefined methods in Python that have double underscores (__) at the beginning and end of their names. They provide special functionalities to classes. Examples include __init__() for object initialization, __str__() for string representation, and __len__() for determining the length of an object. These methods can be overridden to customize the behavior of objects."
   ]
  },
  {
   "cell_type": "markdown",
   "id": "8424405a",
   "metadata": {},
   "source": [
    "Operators and Types in Python:\n",
    "Operators are symbols or special keywords used to perform operations on operands (values or variables). In Python, there are various types of operators:\n",
    "Arithmetic Operators: Perform basic arithmetic operations (+, -, *, /, %, **, //).\n",
    "Assignment Operators: Assign values to variables (=, +=, -=, *=, /=, %=, **=, //=).\n",
    "Comparison Operators: Compare values and return boolean results (==, !=, >, <, >=, <=).\n",
    "Logical Operators: Perform logical operations and return boolean results (and, or, not).\n",
    "Bitwise Operators: Perform bitwise operations on binary representations of numbers (&, |, ^, ~, <<, >>).\n",
    "Membership Operators: Check if a value is a member of a sequence (in, not in).\n",
    "Identity Operators: Compare the identity of two objects (is, is not)."
   ]
  }
 ],
 "metadata": {
  "kernelspec": {
   "display_name": "Python 3 (ipykernel)",
   "language": "python",
   "name": "python3"
  },
  "language_info": {
   "codemirror_mode": {
    "name": "ipython",
    "version": 3
   },
   "file_extension": ".py",
   "mimetype": "text/x-python",
   "name": "python",
   "nbconvert_exporter": "python",
   "pygments_lexer": "ipython3",
   "version": "3.10.7"
  }
 },
 "nbformat": 4,
 "nbformat_minor": 5
}
