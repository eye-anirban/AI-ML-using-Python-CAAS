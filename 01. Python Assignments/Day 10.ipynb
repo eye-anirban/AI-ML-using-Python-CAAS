{
 "cells": [
  {
   "cell_type": "markdown",
   "id": "9c194551",
   "metadata": {},
   "source": [
    "### 1.Python Program to Check Palindrome Number\n",
    "### 2.Python Program to Print all multiples of 3 and 5 in an Interval\n",
    "### 3.Python Program to Find the Factorial of a Number\n",
    "### 4.Python Program to Print the Fibonacci sequence\n",
    "### 5.Python Program to Check Armstrong Number"
   ]
  },
  {
   "cell_type": "code",
   "execution_count": 1,
   "id": "0c3a7f85",
   "metadata": {},
   "outputs": [
    {
     "name": "stdout",
     "output_type": "stream",
     "text": [
      "Enter a number: 13431\n",
      "13431 is a palindrome number\n"
     ]
    }
   ],
   "source": [
    "number = int(input(\"Enter a number: \"))\n",
    "temp = number\n",
    "reverse = 0\n",
    "\n",
    "while temp > 0:\n",
    "    remainder = temp % 10\n",
    "    reverse = reverse * 10 + remainder\n",
    "    temp = temp // 10\n",
    "\n",
    "if number == reverse:\n",
    "    print(number, \"is a palindrome number\")\n",
    "else:\n",
    "    print(number, \"is not a palindrome number\")\n"
   ]
  },
  {
   "cell_type": "code",
   "execution_count": 3,
   "id": "20ad1fd4",
   "metadata": {},
   "outputs": [
    {
     "name": "stdout",
     "output_type": "stream",
     "text": [
      "Enter the start of the interval: 100\n",
      "Enter the end of the interval: 200\n",
      "Multiples of 3 and 5 in the interval 100 to 200 are:\n",
      "105\n",
      "120\n",
      "135\n",
      "150\n",
      "165\n",
      "180\n",
      "195\n"
     ]
    }
   ],
   "source": [
    "start = int(input(\"Enter the start of the interval: \"))\n",
    "end = int(input(\"Enter the end of the interval: \"))\n",
    "\n",
    "print(\"Multiples of 3 and 5 in the interval\", start, \"to\", end, \"are:\")\n",
    "for number in range(start, end + 1):\n",
    "    if number % 3 == 0 and number % 5 == 0:\n",
    "        print(number)\n"
   ]
  },
  {
   "cell_type": "code",
   "execution_count": 4,
   "id": "f5c1fbbf",
   "metadata": {},
   "outputs": [
    {
     "name": "stdout",
     "output_type": "stream",
     "text": [
      "Enter a number: 6\n",
      "Factorial of 6 is 720\n"
     ]
    }
   ],
   "source": [
    "number = int(input(\"Enter a number: \"))\n",
    "factorial = 1\n",
    "\n",
    "if number < 0:\n",
    "    print(\"Factorial cannot be found for negative numbers\")\n",
    "elif number == 0:\n",
    "    print(\"Factorial of 0 is 1\")\n",
    "else:\n",
    "    for i in range(1, number + 1):\n",
    "        factorial *= i\n",
    "    print(\"Factorial of\", number, \"is\", factorial)\n"
   ]
  },
  {
   "cell_type": "code",
   "execution_count": 5,
   "id": "b1399b47",
   "metadata": {},
   "outputs": [
    {
     "name": "stdout",
     "output_type": "stream",
     "text": [
      "Enter the number of terms: 7\n",
      "Fibonacci sequence:\n",
      "0\n",
      "1\n",
      "1\n",
      "2\n",
      "3\n",
      "5\n",
      "8\n"
     ]
    }
   ],
   "source": [
    "terms = int(input(\"Enter the number of terms: \"))\n",
    "\n",
    "first_term = 0\n",
    "second_term = 1\n",
    "\n",
    "if terms <= 0:\n",
    "    print(\"Number of terms should be a positive integer\")\n",
    "elif terms == 1:\n",
    "    print(\"Fibonacci sequence:\")\n",
    "    print(first_term)\n",
    "else:\n",
    "    print(\"Fibonacci sequence:\")\n",
    "    print(first_term)\n",
    "    print(second_term)\n",
    "    for i in range(2, terms):\n",
    "        next_term = first_term + second_term\n",
    "        print(next_term)\n",
    "        first_term = second_term\n",
    "        second_term = next_term\n"
   ]
  },
  {
   "cell_type": "code",
   "execution_count": 6,
   "id": "ec9dd8ae",
   "metadata": {},
   "outputs": [
    {
     "name": "stdout",
     "output_type": "stream",
     "text": [
      "Enter a number: 151\n",
      "151 is not an Armstrong number\n"
     ]
    }
   ],
   "source": [
    "number = int(input(\"Enter a number: \"))\n",
    "temp = number\n",
    "num_digits = len(str(number))\n",
    "sum = 0\n",
    "\n",
    "while temp > 0:\n",
    "    digit = temp % 10\n",
    "    sum += digit ** num_digits\n",
    "    temp //= 10\n",
    "\n",
    "if number == sum:\n",
    "    print(number, \"is an Armstrong number\")\n",
    "else:\n",
    "    print(number, \"is not an Armstrong number\")\n"
   ]
  }
 ],
 "metadata": {
  "kernelspec": {
   "display_name": "Python 3 (ipykernel)",
   "language": "python",
   "name": "python3"
  },
  "language_info": {
   "codemirror_mode": {
    "name": "ipython",
    "version": 3
   },
   "file_extension": ".py",
   "mimetype": "text/x-python",
   "name": "python",
   "nbconvert_exporter": "python",
   "pygments_lexer": "ipython3",
   "version": "3.10.7"
  }
 },
 "nbformat": 4,
 "nbformat_minor": 5
}
